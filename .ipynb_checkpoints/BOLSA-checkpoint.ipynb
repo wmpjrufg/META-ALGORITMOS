{
 "cells": [
  {
   "cell_type": "code",
   "execution_count": 1,
   "metadata": {
    "id": "F0iC5L9ueDFe"
   },
   "outputs": [
    {
     "name": "stdout",
     "output_type": "stream",
     "text": [
      "Requirement already satisfied: yfinance in c:\\programdata\\anaconda3\\lib\\site-packages (0.1.63)\n",
      "Requirement already satisfied: lxml>=4.5.1 in c:\\programdata\\anaconda3\\lib\\site-packages (from yfinance) (4.5.2)\n",
      "Requirement already satisfied: numpy>=1.15 in c:\\programdata\\anaconda3\\lib\\site-packages (from yfinance) (1.18.5)\n",
      "Requirement already satisfied: multitasking>=0.0.7 in c:\\programdata\\anaconda3\\lib\\site-packages (from yfinance) (0.0.9)\n",
      "Requirement already satisfied: pandas>=0.24 in c:\\programdata\\anaconda3\\lib\\site-packages (from yfinance) (1.0.5)\n",
      "Requirement already satisfied: requests>=2.20 in c:\\programdata\\anaconda3\\lib\\site-packages (from yfinance) (2.24.0)\n",
      "Requirement already satisfied: python-dateutil>=2.6.1 in c:\\programdata\\anaconda3\\lib\\site-packages (from pandas>=0.24->yfinance) (2.8.1)\n",
      "Requirement already satisfied: pytz>=2017.2 in c:\\programdata\\anaconda3\\lib\\site-packages (from pandas>=0.24->yfinance) (2020.1)\n",
      "Requirement already satisfied: certifi>=2017.4.17 in c:\\programdata\\anaconda3\\lib\\site-packages (from requests>=2.20->yfinance) (2020.6.20)\n",
      "Requirement already satisfied: urllib3!=1.25.0,!=1.25.1,<1.26,>=1.21.1 in c:\\programdata\\anaconda3\\lib\\site-packages (from requests>=2.20->yfinance) (1.25.9)\n",
      "Requirement already satisfied: idna<3,>=2.5 in c:\\programdata\\anaconda3\\lib\\site-packages (from requests>=2.20->yfinance) (2.10)\n",
      "Requirement already satisfied: chardet<4,>=3.0.2 in c:\\programdata\\anaconda3\\lib\\site-packages (from requests>=2.20->yfinance) (3.0.4)\n",
      "Requirement already satisfied: six>=1.5 in c:\\programdata\\anaconda3\\lib\\site-packages (from python-dateutil>=2.6.1->pandas>=0.24->yfinance) (1.15.0)\n"
     ]
    }
   ],
   "source": [
    "!pip install yfinance "
   ]
  },
  {
   "cell_type": "code",
   "execution_count": 2,
   "metadata": {
    "executionInfo": {
     "elapsed": 264,
     "status": "ok",
     "timestamp": 1628864580970,
     "user": {
      "displayName": "WANDERLEI MALAQUIAS PEREIRA JUNIOR",
      "photoUrl": "",
      "userId": "03317906919960130651"
     },
     "user_tz": 180
    },
    "id": "Ot-Fdjclb3OR"
   },
   "outputs": [],
   "source": [
    "################################################################################\n",
    "# UNIVERSIDADE FEDERAL DE CATALÃO (UFCAT)\n",
    "# WANDERLEI MALAQUIAS PEREIRA JUNIOR,                  ENG. CIVIL / PROF (UFCAT)\n",
    "# ANTOVER PANAZZOLO SARMENTO,                       ENG. AGRICOLA / PROF (UFCAT)\n",
    "# MARIA JOSÉ PEREIRA DANTAS,                                 MAT. / PROF (UFCAT)\n",
    "# EULLER SANTOS MIRANDA,                                           COMP. (UFCAT)\n",
    "# JOÃO COELHO ESTRELA,                                        ENG. MINAS (UFCAT)   \n",
    "# FABRICIO NUNES MOLTAVÃO,                                      ENG. CIVIL (UEG)         \n",
    "# DANILO MILHOMEM,                                        ENG. PRODUÇÃO (PUC-GO)                             \n",
    "################################################################################\n",
    "\n",
    "################################################################################\n",
    "# DESCRIÇÃO ALGORITMO:\n",
    "# BIBLIOTECA DE FUNÇÕES PARA TRATAMENTO INICIAL DE DADOS DA BOLSA DE VALORES \n",
    "# BRASILEIRA DESENVOLVIDA PELO GRUPO DE PESQUISAS E ESTUDOS EM ENGENHARIA (GPEE)\n",
    "################################################################################\n",
    "\n",
    "\n",
    "################################################################################\n",
    "# BIBLIOTECAS NATIVAS PYTHON\n",
    "import numpy as np\n",
    "import pandas as pd\n",
    "import yfinance as yf\n",
    "import seaborn as sns\n",
    "import matplotlib.pyplot as plt\n",
    "################################################################################\n",
    "# BIBLIOTECAS DESENVOLVEDORES GPEE\n"
   ]
  },
  {
   "cell_type": "code",
   "execution_count": 15,
   "metadata": {
    "id": "0zAhg6W6m-_h"
   },
   "outputs": [],
   "source": [
    "def DADOS_BOLSA_PRECO_AJUSTADO(DADOS):\n",
    "    \"\"\"\n",
    "    Esta função recolhe dados da bolsa de valores empregando a biblioteca Yahoo Finance.\n",
    "\n",
    "    Entrada:\n",
    "    DADOS          | Dados necessários para rodar a biblioteca  | Py dictionary\n",
    "                   |   Etiquetas do dicionário:                 |\n",
    "                   |   'ID ACAO' = Ticker da ação               | Py list\n",
    "                   |   'DATA INICIAL' = Data inicial dos dados  | String\n",
    "                   |   'DATA FINAL '  = Data final dos dados    | String\n",
    "    Saída:\n",
    "    DADOS_BOLSA    | Dados da bolsa de valores Volume, Preço    | Py dictionary\n",
    "                   | Máximo, Mínimo, Ajustado                   |       \n",
    "    DADOS_RETORNO  | Retorno do ativo                           | Py dictionary   \n",
    "    DADOS_COV      | Matriz de covariância dos ativos           | Py dictionary \n",
    "    \"\"\"\n",
    "    # Recolhendo os dados via biblioteca yfinance\n",
    "    ACOES = DADOS['ID ACAO']\n",
    "    DATA_INICIAL = DADOS['DATA INICIAL']\n",
    "    DATA_FINAL = DADOS['DATA FINAL']\n",
    "    DADOS_BOLSA = yf.download(ACOES, start = DATA_INICIAL, end = DATA_FINAL)\n",
    "    DADOS_BOLSA = DADOS_BOLSA.dropna()\n",
    "    DADOS_PRECO = DADOS_BOLSA['Adj Close']\n",
    "    DADOS_RETORNO = DADOS_PRECO.pct_change()\n",
    "    DADOS_RETORNO.columns = ACOES\n",
    "    DADOS_COVARIANCIA = DADOS_PRECO.cov()\n",
    "    return DADOS_BOLSA, DADOS_RETORNO, DADOS_COVARIANCIA\n",
    "\n",
    "def BOLSA_PLOT_001(DADOS,OPCOES_GRAF):\n",
    "    \"\"\"\n",
    "    \n",
    "\n",
    "    Entrada:  \n",
    "    DADOS       | Matriz de covariancia                                    | Py numpy array    \n",
    "    OPCOES_GRAF | Contains specifications of each model of chart           | Py Dictionary\n",
    "                |  Dictionary tags                                         |\n",
    "                |    'NAME'          == Filename output file               | String \n",
    "                |    'WIDTH'         == Width figure                       | Float\n",
    "                |    'HEIGHT         == Height figure                      | Float\n",
    "                |    'EXTENSION'     == Extension output file              | String \n",
    "                |    'DPI'           == Dots Per Inch - Image quality      | Integer   \n",
    "                |    'COLOR OF'      == OF line color                      | String\n",
    "                |    'ANNOT'         ==                                    | Boolean\n",
    "                |    'LINEWIDTHS'    == espaço entre o valores             | Integer\n",
    "                |    'FMT'           == Código de formatação de string     | String\n",
    "      \n",
    "    Saida:\n",
    "    The image is saved in the current directory \n",
    "\t\"\"\"\n",
    "    ANNOT=OPCOES_GRAF['ANNOT']\n",
    "    LINEWIDTHS=OPCOES_GRAF['LINEWIDTHS']\n",
    "    FMT=OPCOES_GRAF['FMT']\n",
    "    sns.heatmap(DADOS, annot=ANNOT, linewidths=LINEWIDTHS , fmt=FMT)\n",
    "\n",
    "def BOLSA_PLOT_002(DADOS):\n",
    "    \n",
    "    ID_ACAO = DADOS['ID ACAO']\n",
    "    DADOS_PRECOS = DADOS['PRECOS']\n",
    "    DATA_INICIAL = DADOS['DATA INICIAL']\n",
    "    DATA_FINAL = DADOS['DATA FINAL']\n",
    "    PERIODO_MOVEL = DADOS['PERIODO MEDIA MOVEL']\n",
    "    \n",
    "    plt.figure(figsize=(24,12))\n",
    "    DADOS_PRECOS[ID_ACAO].loc[DATA_INICIAL : DATA_FINAL].rolling(window=PERIODO_MOVEL).mean().plot(label='Media movel:'+str(PERIODO_MOVEL)+' dias')\n",
    "    DADOS_PRECOS[ID_ACAO].loc[DATA_INICIAL : DATA_FINAL].plot(label= str(ID_ACAO + ' ADJ CLOSE'))\n",
    "    plt.legend()\n",
    "\n",
    "    "
   ]
  },
  {
   "cell_type": "code",
   "execution_count": 16,
   "metadata": {},
   "outputs": [],
   "source": [
    "ACOES = [ \"^BVSP\", 'VALE3.SA']\n",
    "DATA_INICIAL = '2020-02-01'\n",
    "DATA_FINAL = '2020-03-20'\n",
    "DADOS_BOLSA ={'ID ACAO':ACOES, 'DATA INICIAL':DATA_INICIAL, 'DATA FINAL':DATA_FINAL}"
   ]
  },
  {
   "cell_type": "code",
   "execution_count": 17,
   "metadata": {},
   "outputs": [
    {
     "name": "stdout",
     "output_type": "stream",
     "text": [
      "[*********************100%***********************]  2 of 2 completed\n"
     ]
    },
    {
     "ename": "NameError",
     "evalue": "name 'DADOS_PRECO' is not defined",
     "output_type": "error",
     "traceback": [
      "\u001b[1;31m---------------------------------------------------------------------------\u001b[0m",
      "\u001b[1;31mNameError\u001b[0m                                 Traceback (most recent call last)",
      "\u001b[1;32m<ipython-input-17-17948cefa860>\u001b[0m in \u001b[0;36m<module>\u001b[1;34m\u001b[0m\n\u001b[1;32m----> 1\u001b[1;33m \u001b[0mPRECO\u001b[0m\u001b[1;33m,\u001b[0m\u001b[0mRETORNO\u001b[0m\u001b[1;33m,\u001b[0m\u001b[0mCOVARIANCIA\u001b[0m\u001b[1;33m=\u001b[0m\u001b[0mDADOS_BOLSA_PRECO_AJUSTADO\u001b[0m\u001b[1;33m(\u001b[0m\u001b[0mDADOS_BOLSA\u001b[0m\u001b[1;33m)\u001b[0m\u001b[1;33m\u001b[0m\u001b[1;33m\u001b[0m\u001b[0m\n\u001b[0m\u001b[0;32m      2\u001b[0m \u001b[0mPRECO\u001b[0m\u001b[1;33m\u001b[0m\u001b[1;33m\u001b[0m\u001b[0m\n",
      "\u001b[1;32m<ipython-input-15-45fcc6f721ef>\u001b[0m in \u001b[0;36mDADOS_BOLSA_PRECO_AJUSTADO\u001b[1;34m(DADOS)\u001b[0m\n\u001b[0;32m     23\u001b[0m     \u001b[0mDADOS_RETORNO\u001b[0m \u001b[1;33m=\u001b[0m \u001b[0mDADOS_BOLSA\u001b[0m\u001b[1;33m[\u001b[0m\u001b[1;34m'Adj Close'\u001b[0m\u001b[1;33m]\u001b[0m\u001b[1;33m.\u001b[0m\u001b[0mpct_change\u001b[0m\u001b[1;33m(\u001b[0m\u001b[1;33m)\u001b[0m\u001b[1;33m\u001b[0m\u001b[1;33m\u001b[0m\u001b[0m\n\u001b[0;32m     24\u001b[0m     \u001b[0mDADOS_RETORNO\u001b[0m\u001b[1;33m.\u001b[0m\u001b[0mcolumns\u001b[0m \u001b[1;33m=\u001b[0m \u001b[0mACOES\u001b[0m\u001b[1;33m\u001b[0m\u001b[1;33m\u001b[0m\u001b[0m\n\u001b[1;32m---> 25\u001b[1;33m     \u001b[0mDADOS_COVARIANCIA\u001b[0m \u001b[1;33m=\u001b[0m \u001b[0mDADOS_PRECO\u001b[0m\u001b[1;33m.\u001b[0m\u001b[0mcov\u001b[0m\u001b[1;33m(\u001b[0m\u001b[1;33m)\u001b[0m\u001b[1;33m\u001b[0m\u001b[1;33m\u001b[0m\u001b[0m\n\u001b[0m\u001b[0;32m     26\u001b[0m     \u001b[1;32mreturn\u001b[0m \u001b[0mDADOS_BOLSA\u001b[0m\u001b[1;33m,\u001b[0m \u001b[0mDADOS_RETORNO\u001b[0m\u001b[1;33m,\u001b[0m \u001b[0mDADOS_COVARIANCIA\u001b[0m\u001b[1;33m\u001b[0m\u001b[1;33m\u001b[0m\u001b[0m\n\u001b[0;32m     27\u001b[0m \u001b[1;33m\u001b[0m\u001b[0m\n",
      "\u001b[1;31mNameError\u001b[0m: name 'DADOS_PRECO' is not defined"
     ]
    }
   ],
   "source": [
    "PRECO,RETORNO,COVARIANCIA=DADOS_BOLSA_PRECO_AJUSTADO(DADOS_BOLSA)\n",
    "PRECO"
   ]
  },
  {
   "cell_type": "code",
   "execution_count": null,
   "metadata": {},
   "outputs": [],
   "source": [
    "PRECO"
   ]
  },
  {
   "cell_type": "code",
   "execution_count": null,
   "metadata": {},
   "outputs": [],
   "source": [
    "RETORNO"
   ]
  },
  {
   "cell_type": "code",
   "execution_count": null,
   "metadata": {},
   "outputs": [],
   "source": [
    "OPCOES_GRAF={'ANNOT':True, 'LINEWIDTHS':20, 'FMT':'.4'}\n",
    "BOLSA_PLOT_001(COVARIANCIA,OPCOES_GRAF)"
   ]
  },
  {
   "cell_type": "code",
   "execution_count": null,
   "metadata": {},
   "outputs": [],
   "source": [
    "DADOS ={'ID ACAO':'VALE3.SA','PRECOS':PRECO, 'DATA INICIAL':DATA_INICIAL, 'DATA FINAL':DATA_FINAL, 'PERIODO MEDIA MOVEL':5}\n",
    "BOLSA_PLOT_002(DADOS)"
   ]
  },
  {
   "cell_type": "code",
   "execution_count": null,
   "metadata": {},
   "outputs": [],
   "source": []
  }
 ],
 "metadata": {
  "colab": {
   "authorship_tag": "ABX9TyN2SuI7PuK5PrPJPRjWTNnG",
   "collapsed_sections": [],
   "name": "BOLSA.ipynb",
   "provenance": []
  },
  "kernelspec": {
   "display_name": "Python 3",
   "language": "python",
   "name": "python3"
  },
  "language_info": {
   "codemirror_mode": {
    "name": "ipython",
    "version": 3
   },
   "file_extension": ".py",
   "mimetype": "text/x-python",
   "name": "python",
   "nbconvert_exporter": "python",
   "pygments_lexer": "ipython3",
   "version": "3.8.3"
  }
 },
 "nbformat": 4,
 "nbformat_minor": 1
}
