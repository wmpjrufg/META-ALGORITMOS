{
 "cells": [
  {
   "cell_type": "code",
   "execution_count": 2,
   "metadata": {
    "colab": {
     "base_uri": "https://localhost:8080/",
     "height": 214
    },
    "executionInfo": {
     "elapsed": 801,
     "status": "error",
     "timestamp": 1616702141451,
     "user": {
      "displayName": "WANDERLEI MALAQUIAS PEREIRA JUNIOR",
      "photoUrl": "https://lh3.googleusercontent.com/a-/AOh14GglFn2KGqmzmMwwLVTugRzApV8LBiqF4115lvfpdg=s64",
      "userId": "03728573811029083355"
     },
     "user_tz": 180
    },
    "id": "zdeEb0-QZ_x2",
    "outputId": "2f9dbceb-dbd4-4308-8728-bdd233ced709"
   },
   "outputs": [
    {
     "ename": "TypeError",
     "evalue": "SA_ALGORITHM_0001() got an unexpected keyword argument 'STOP_CONTROL_TEMP'",
     "output_type": "error",
     "traceback": [
      "\u001b[1;31m---------------------------------------------------------------------------\u001b[0m",
      "\u001b[1;31mTypeError\u001b[0m                                 Traceback (most recent call last)",
      "\u001b[1;32m<ipython-input-2-251c210990cd>\u001b[0m in \u001b[0;36m<module>\u001b[1;34m\u001b[0m\n\u001b[0;32m     21\u001b[0m     \u001b[1;32mreturn\u001b[0m \u001b[0mof\u001b[0m\u001b[1;33m\u001b[0m\u001b[1;33m\u001b[0m\u001b[0m\n\u001b[0;32m     22\u001b[0m \u001b[1;33m\u001b[0m\u001b[0m\n\u001b[1;32m---> 23\u001b[1;33m \u001b[0mRESULTS_REP\u001b[0m\u001b[1;33m,\u001b[0m \u001b[0mBEST_REP\u001b[0m\u001b[1;33m,\u001b[0m \u001b[0mMEAN_REP\u001b[0m\u001b[1;33m,\u001b[0m \u001b[0mWORST_REP\u001b[0m \u001b[1;33m=\u001b[0m \u001b[0mSA_ALGORITHM_0001\u001b[0m\u001b[1;33m(\u001b[0m\u001b[0mfuncao_obj\u001b[0m\u001b[1;33m,\u001b[0m \u001b[0mnrep\u001b[0m\u001b[1;33m,\u001b[0m \u001b[0mniter\u001b[0m\u001b[1;33m,\u001b[0m \u001b[0mnpop\u001b[0m\u001b[1;33m,\u001b[0m \u001b[0md\u001b[0m\u001b[1;33m,\u001b[0m \u001b[0mtypeboot\u001b[0m\u001b[1;33m,\u001b[0m \u001b[0mxinf\u001b[0m\u001b[1;33m,\u001b[0m \u001b[0mxsup\u001b[0m\u001b[1;33m,\u001b[0m \u001b[0msigma\u001b[0m\u001b[1;33m,\u001b[0m \u001b[0malpha\u001b[0m\u001b[1;33m,\u001b[0m \u001b[0mSTOP_CONTROL_TEMP\u001b[0m \u001b[1;33m=\u001b[0m \u001b[1;36m100\u001b[0m\u001b[1;33m)\u001b[0m\u001b[1;33m\u001b[0m\u001b[1;33m\u001b[0m\u001b[0m\n\u001b[0m",
      "\u001b[1;31mTypeError\u001b[0m: SA_ALGORITHM_0001() got an unexpected keyword argument 'STOP_CONTROL_TEMP'"
     ]
    }
   ],
   "source": [
    "from META_TOOLBOX import *\n",
    "\n",
    "\n",
    "# Dados do problema\n",
    "nrep = 1 # número de repetições\n",
    "niter = 200 # número de iterações\n",
    "npop = 1 # número de pop.\n",
    "d = 2 # dimensões\n",
    "sigma = 0.30 # desvio padrão\n",
    "alpha = 0.98 # decaimento da temp\n",
    "typeboot = 'UNIFORM'\n",
    "xinf = [-1, -1] # lower bound\n",
    "xsup = [1, 1] # upper bound\n",
    "\n",
    "# função objetivo\n",
    "def funcao_obj(X, NULL_DIC):\n",
    "    X_0 = X[0]\n",
    "    X_1 = X[1]\n",
    "    of = X_0 ** 2 + X_1 ** 2\n",
    "    # restrição\n",
    "    return of\n",
    "\n",
    "RESULTS_REP, BEST_REP, MEAN_REP, WORST_REP = SA_ALGORITHM_0001(funcao_obj, nrep, niter, npop, d, typeboot, xinf, xsup, sigma, alpha, STOP_CONTROL_TEMP = 100)"
   ]
  },
  {
   "cell_type": "code",
   "execution_count": null,
   "metadata": {
    "executionInfo": {
     "elapsed": 1004,
     "status": "ok",
     "timestamp": 1616702141662,
     "user": {
      "displayName": "WANDERLEI MALAQUIAS PEREIRA JUNIOR",
      "photoUrl": "https://lh3.googleusercontent.com/a-/AOh14GglFn2KGqmzmMwwLVTugRzApV8LBiqF4115lvfpdg=s64",
      "userId": "03728573811029083355"
     },
     "user_tz": 180
    },
    "id": "pFJp_qQWZ_x8"
   },
   "outputs": [],
   "source": [
    "print(BEST_REP)"
   ]
  },
  {
   "cell_type": "code",
   "execution_count": null,
   "metadata": {},
   "outputs": [],
   "source": [
    "nrep = 1\n",
    "niter = 50\n",
    "npopmale = 4\n",
    "npopfemale = 4\n",
    "xinf = [-2.048, -2.048, -2.048, -2.048, -2.048, -2.048, -2.048, -2.048]\n",
    "xsup = [2.048, 2.048, 2.048, 2.048, 2.048, 2.048, 2.048, 2.048]\n",
    "d = 8\n",
    "beta_0 = 0.98\n",
    "Gamma = [(xsup[0] - xinf[0]), (xsup[1] - xinf[1]), (xsup[2] - xinf[2]), (xsup[3] - xinf[3]), (xsup[4] - xinf[4]), (xsup[5] - xinf[5]), (xsup[6] - xinf[6]), (xsup[7] - xinf[7])]\n",
    "gamma = [1 / Gamma[0] ** 2, 1 / Gamma[1] ** 2, 1 / Gamma[2] ** 2, 1 / Gamma[3] ** 2, 1 / Gamma[4] ** 2, 1 / Gamma[5] ** 2, 1 / Gamma[6] ** 2, 1 / Gamma[7] ** 2]\n",
    "kbuscas = 5\n",
    "alphacaotico = 4\n",
    "typeboot = 'UNIFORM'\n",
    "seed = 10\n",
    "\n",
    "def rosenbrock(xx):\n",
    "    \"\"\"\n",
    "    This R^2 -> R^1 function should be compatible with algopy.\n",
    "    http://en.wikipedia.org/wiki/Rosenbrock_function\n",
    "    A generalized implementation is available\n",
    "    as the scipy.optimize.rosen function\n",
    "    \"\"\"\n",
    "    #x = X[0]\n",
    "    #y = X[1]\n",
    "    #a = 1. - x\n",
    "    #b = y - x*x\n",
    "    #resp = a*a + b*b*100\n",
    "    d = len(xx)\n",
    "    sum = 0\n",
    "    for ii in range(d-1):\n",
    "        xi = xx[ii]\n",
    "        xnext = xx[ii+1]\n",
    "        new = 100*(xnext-xi**2)**2 + (xi-1)**2\n",
    "        sum = sum + new\n",
    "    y = sum\n",
    "    return y\n",
    "\n",
    "# função objetivo\n",
    "def funcao_obj(X):\n",
    "    #X_0 = X[0]\n",
    "    #X_1 = X[1]\n",
    "    #of = X_0 * X_0 + X_1 * X_1\n",
    "    of = rosenbrock(X)\n",
    "    return of\n",
    "\n",
    "RESULTS_REP, BEST_REP, MEAN_REP, WORST_REP = META.FA_ALGORITHM_0002(funcao_obj, nrep, niter, npopmale, npopfemale, d, typeboot, seed, xinf, xsup, beta_0, gamma, kbuscas, alphacaotico)\n",
    "print(BEST_REP)"
   ]
  },
  {
   "cell_type": "code",
   "execution_count": null,
   "metadata": {},
   "outputs": [],
   "source": [
    "import matplotlib.pyplot as plt\n",
    "dadosy = BEST_REP[0]['OF']\n",
    "plt.plot(dadosy)\n",
    "plt.xlabel('iter')\n",
    "plt.ylabel('f(x) = kg')\n",
    "plt.show()"
   ]
  },
  {
   "cell_type": "code",
   "execution_count": null,
   "metadata": {},
   "outputs": [],
   "source": [
    "import numpy as np"
   ]
  },
  {
   "cell_type": "code",
   "execution_count": null,
   "metadata": {},
   "outputs": [],
   "source": [
    "np.random.RandomState(1)"
   ]
  },
  {
   "cell_type": "code",
   "execution_count": null,
   "metadata": {},
   "outputs": [],
   "source": [
    "np.random.rand(4)"
   ]
  },
  {
   "cell_type": "code",
   "execution_count": null,
   "metadata": {},
   "outputs": [],
   "source": [
    "np.random.rand(4)"
   ]
  },
  {
   "cell_type": "code",
   "execution_count": null,
   "metadata": {},
   "outputs": [],
   "source": [
    "np.random.rand(4)"
   ]
  },
  {
   "cell_type": "code",
   "execution_count": null,
   "metadata": {},
   "outputs": [],
   "source": [
    "X_T0 = [2, 2, 3]\n",
    "X_L = [3, 1, 2.5]\n",
    "X_U = [4, 2, 2.8] \n",
    "X_T1 = np.clip(X_T0, X_L, X_U)\n",
    "X_T1"
   ]
  },
  {
   "cell_type": "code",
   "execution_count": null,
   "metadata": {},
   "outputs": [],
   "source": [
    "print(type(X_T0))\n",
    "print(type(X_T1))"
   ]
  },
  {
   "cell_type": "code",
   "execution_count": null,
   "metadata": {},
   "outputs": [],
   "source": [
    "X_T1[1]"
   ]
  },
  {
   "cell_type": "code",
   "execution_count": null,
   "metadata": {},
   "outputs": [],
   "source": [
    "X_T1[0]"
   ]
  },
  {
   "cell_type": "code",
   "execution_count": null,
   "metadata": {},
   "outputs": [],
   "source": [
    "PROBABILITY_STATE = 0; STOP = 0\n",
    "while PROBABILITY_STATE < 0.80:\n",
    "        STOP += 1\n",
    "        if STOP > 100:\n",
    "            break\n",
    "        PROBABILITY_STATE += 0.002\n",
    "        print('parada :', PROBABILITY_STATE, 'prob. :', STOP)\n"
   ]
  },
  {
   "cell_type": "code",
   "execution_count": null,
   "metadata": {},
   "outputs": [],
   "source": [
    "PROBABILITY_STATE = 20\n",
    "W1 = PROBABILITY_STATE < 0.80\n",
    "print(W1)\n",
    "STOP = 1\n",
    "W2 = STOP < 100\n",
    "print(W2)"
   ]
  },
  {
   "cell_type": "code",
   "execution_count": null,
   "metadata": {},
   "outputs": [],
   "source": [
    "W1 = 0.0; W2 = 0"
   ]
  },
  {
   "cell_type": "code",
   "execution_count": null,
   "metadata": {},
   "outputs": [],
   "source": [
    "print(W2)\n",
    "print(W2)"
   ]
  },
  {
   "cell_type": "code",
   "execution_count": null,
   "metadata": {},
   "outputs": [],
   "source": [
    "WANDER = np.random.normal(2, 5, 1)"
   ]
  },
  {
   "cell_type": "code",
   "execution_count": null,
   "metadata": {},
   "outputs": [],
   "source": [
    "print(WANDER)"
   ]
  },
  {
   "cell_type": "code",
   "execution_count": null,
   "metadata": {},
   "outputs": [],
   "source": [
    "WANDER = np.array([[1], [-10], [8]])\n",
    "print(WANDER)"
   ]
  },
  {
   "cell_type": "code",
   "execution_count": null,
   "metadata": {},
   "outputs": [],
   "source": [
    "teste = np.argsort(WANDER.T)\n",
    "print(teste)"
   ]
  },
  {
   "cell_type": "code",
   "execution_count": null,
   "metadata": {},
   "outputs": [],
   "source": [
    "teste[0,2]"
   ]
  },
  {
   "cell_type": "code",
   "execution_count": null,
   "metadata": {},
   "outputs": [],
   "source": [
    "np.mean(WANDER.T)"
   ]
  },
  {
   "cell_type": "code",
   "execution_count": null,
   "metadata": {},
   "outputs": [],
   "source": [
    "import numpy as np\n",
    "import META_GRAPHICS_LIBRARY as META_GR\n",
    "# COMPLETE DATASET META PLATAFORM\n",
    "DATA = {'X_GLOBAL': np.array([[1.0, 3.0], [1.50, 3.20], [1.64, 3.32], \n",
    "                               [1.70, 3.00], [1.00, 1.80], [2.00, 0.0], [0.10, 0.00]]), \n",
    "        'OF': np.array([13.0212986 , 13.43584033, 13.93471975, 10.4 , 8.5, 5.1, 0.10]),\n",
    "        'ITER': np.array([0 , 1, 2, 3, 4, 5, 6]), \n",
    "        'NEOF': np.array([0 , 100, 200, 300, 400, 500, 600]),\n",
    "        'FIT': np.array([0.01337897, 0.01314076, 0.01286387, 0.01251551, 0.01322364, 10, 20])}\n",
    "\n",
    "\n",
    "MODEL = {'NAME': 'WANDER',\n",
    "            'WIDTH': 0.40, \n",
    "            'HEIGHT': 0.20, \n",
    "            'EXTENSION': '.svg',\n",
    "            'DPI': 500, \n",
    "            'COLOR OF': '#DB3469',\n",
    "            'MARKER OF': 'o',  \n",
    "            'COLOR FIT': '#3498DB',\n",
    "            'MARKER FIT': 's',\n",
    "            'MARKER SIZE': 12,\n",
    "            'LINE WIDTH': 5,\n",
    "            'LINE STYLE': '-',\n",
    "            'OF AXIS LABEL': 'OF $kg^3$',\n",
    "            'X AXIS LABEL': '$Iteration$',\n",
    "            'LABELS SIZE': 20,\n",
    "            'LABELS COLOR': '#000000',\n",
    "            'X AXIS SIZE': 12,\n",
    "            'Y AXIS SIZE': 12,\n",
    "            'AXISES COLOR': '#000000',\n",
    "            'ON GRID?': True}\n",
    "DATA_RESULTS = []\n",
    "DATA_RESULTS.append(DATA['OF'])\n",
    "DATA_RESULTS.append(DATA['FIT'])\n",
    "DATA_RESULTS.append(DATA['ITER'])"
   ]
  },
  {
   "cell_type": "code",
   "execution_count": null,
   "metadata": {},
   "outputs": [],
   "source": [
    "META_GR.META_PLOT_1(DATA_RESULTS, MODELO)"
   ]
  },
  {
   "cell_type": "code",
   "execution_count": null,
   "metadata": {},
   "outputs": [],
   "source": []
  },
  {
   "cell_type": "code",
   "execution_count": null,
   "metadata": {},
   "outputs": [],
   "source": []
  }
 ],
 "metadata": {
  "colab": {
   "name": "Untitled.ipynb",
   "provenance": []
  },
  "kernelspec": {
   "display_name": "Python 3",
   "language": "python",
   "name": "python3"
  },
  "language_info": {
   "codemirror_mode": {
    "name": "ipython",
    "version": 3
   },
   "file_extension": ".py",
   "mimetype": "text/x-python",
   "name": "python",
   "nbconvert_exporter": "python",
   "pygments_lexer": "ipython3",
   "version": "3.8.3"
  }
 },
 "nbformat": 4,
 "nbformat_minor": 1
}
