{
 "cells": [
  {
   "cell_type": "code",
   "execution_count": 35,
   "metadata": {
    "id": "mpi2TODbktt9"
   },
   "outputs": [],
   "source": [
    "!pip install yfinance\n",
    "import yfinance as yf\n",
    "import pandas as pd\n",
    "DADOS_STATUS_INVEST= pd.read_excel('teste.xlsx')"
   ]
  },
  {
   "cell_type": "code",
   "execution_count": 36,
   "metadata": {
    "colab": {
     "base_uri": "https://localhost:8080/"
    },
    "id": "isTXe-XZrX_5",
    "outputId": "1f4f7ff4-ab14-4f05-f3a8-ed7901567cb7"
   },
   "outputs": [
    {
     "name": "stdout",
     "output_type": "stream",
     "text": [
      "['AALR3', 'ABCB4', 'ABEV3', 'ADHM3', 'AERI3', 'AESB3', 'AFLT3', 'AGRO3', 'AGXY3', 'AHEB3', 'AHEB5', 'AHEB6', 'ALLD3', 'ALPA3', 'ALPA4', 'ALPK3', 'ALSO3', 'ALUP11', 'ALUP3', 'ALUP4', 'AMAR3', 'AMBP3', 'AMER3', 'ANIM3', 'APER3', 'APTI3', 'APTI4', 'ARML3', 'ARZZ3', 'ASAI3', 'ATMP3', 'ATOM3', 'AURA33', 'AVLL3', 'AZEV3', 'AZEV4', 'AZUL4', 'B3SA3', 'BAHI3', 'BALM3', 'BALM4', 'BAUH4', 'BAZA3', 'BBAS3', 'BBDC3', 'BBDC4', 'BBML3', 'BBRK3', 'BBSE3', 'BDLL3', 'BDLL4', 'BEEF3', 'BEES3', 'BEES4', 'BFRE11', 'BFRE12', 'BGIP3', 'BGIP4', 'BIDI11', 'BIDI3', 'BIDI4', 'BIOM3', 'BKBR3', 'BLAU3', 'BMEB3', 'BMEB4', 'BMGB4', 'BMIN3', 'BMIN4', 'BMKS3', 'BMOB3', 'BNBR3', 'BOAS3', 'BOBR3', 'BOBR4', 'BPAC11', 'BPAC3', 'BPAC5', 'BPAN4', 'BPAR3', 'BPAT33', 'BPHA3', 'BRAP3', 'BRAP4', 'BRBI11', 'BRDT3', 'BRFS3', 'BRGE11', 'BRGE12', 'BRGE3', 'BRGE5', 'BRGE6', 'BRGE7', 'BRGE8', 'BRIT3', 'BRIV3', 'BRIV4', 'BRKM3', 'BRKM5', 'BRKM6', 'BRML3', 'BRPR3', 'BRQB3', 'BRSR3', 'BRSR5', 'BRSR6', 'BSEV3', 'BSLI3', 'BSLI4', 'BTTL4', 'CALI3', 'CALI4', 'CAMB3', 'CAMB4', 'CAML3', 'CARD3', 'CASH3', 'CASN3', 'CASN4', 'CATA3', 'CATA4', 'CBAV3', 'CBEE3', 'CCPR3', 'CCRO3', 'CCXC3', 'CEAB3', 'CEBR3', 'CEBR5', 'CEBR6', 'CEDO3', 'CEDO4', 'CEEB3', 'CEEB5', 'CEEB6', 'CEED3', 'CEED4', 'CEGR3', 'CEPE3', 'CEPE5', 'CEPE6', 'CESP3', 'CESP5', 'CESP6', 'CGAS3', 'CGAS5', 'CGRA3', 'CGRA4', 'CIEL3', 'CLSA3', 'CLSC3', 'CLSC4', 'CMIG3', 'CMIG4', 'CMIN3', 'CMSA3', 'CMSA4', 'CNSY3', 'COCE3', 'COCE5', 'COCE6', 'COGN3', 'CORR3', 'CORR4', 'CPFE3', 'CPLE11', 'CPLE3', 'CPLE5', 'CPLE6', 'CPRE3', 'CRDE3', 'CREM3', 'CRFB3', 'CRIV3', 'CRIV4', 'CRPG3', 'CRPG5', 'CRPG6', 'CSAB3', 'CSAB4', 'CSAN3', 'CSED3', 'CSMG3', 'CSNA3', 'CSRN3', 'CSRN5', 'CSRN6', 'CTCA3', 'CTKA3', 'CTKA4', 'CTNM3', 'CTNM4', 'CTSA3', 'CTSA4', 'CTSA8', 'CURY3', 'CVCB3', 'CXSE3', 'CYRE3', 'DASA3', 'DESK3', 'DEXP3', 'DEXP4', 'DIRR3', 'DMMO3', 'DMVF3', 'DOHL3', 'DOHL4', 'DOTZ3', 'DTCY3', 'DTCY4', 'DTEX3', 'EALT3', 'EALT4', 'ECOR3', 'ECPR3', 'ECPR4', 'EEEL3', 'EEEL4', 'EGIE3', 'EKTR3', 'EKTR4', 'ELEK3', 'ELEK4', 'ELET3', 'ELET5', 'ELET6', 'ELMD3', 'ELPL3', 'EMAE3', 'EMAE4', 'EMBR3', 'ENAT3', 'ENBR3', 'ENEV3', 'ENGI11', 'ENGI3', 'ENGI4', 'ENJU3', 'ENMA3B', 'ENMA6B', 'ENMT3', 'ENMT4', 'EPAR3', 'EQPA3', 'EQPA5', 'EQPA6', 'EQPA7', 'EQTL3', 'ESPA3', 'ESTR3', 'ESTR4', 'ETER3', 'EUCA3', 'EUCA4', 'EVEN3', 'EZTC3', 'FBMC3', 'FBMC4', 'FESA3', 'FESA4', 'FHER3', 'FIGE3', 'FIGE4', 'FIQE3', 'FLEX3', 'FLRY3', 'FNCN3', 'FRAS3', 'FRIO3', 'FRTA3', 'FTRT3B', 'G2DI33', 'GBIO33', 'GEPA3', 'GEPA4', 'GFSA3', 'GGBR3', 'GGBR4', 'GGPS3', 'GMAT3', 'GNDI3', 'GOAU3', 'GOAU4', 'GOLL4', 'GPAR3', 'GPIV33', 'GRND3', 'GSHP3', 'GUAR3', 'HAGA3', 'HAGA4', 'HAPV3', 'HBOR3', 'HBRE3', 'HBSA3', 'HBTS5', 'HETA3', 'HETA4', 'HGTX3', 'HOOT3', 'HOOT4', 'HYPE3', 'IDVL3', 'IDVL4', 'IFCM3', 'IGBR3', 'IGSN3', 'IGTA3', 'INEP3', 'INEP4', 'INNT3', 'INTB3', 'IRBR3', 'ITEC3', 'ITSA3', 'ITSA4', 'ITUB3', 'ITUB4', 'JALL3', 'JBDU3', 'JBDU4', 'JBSS3', 'JFEN3', 'JHSF3', 'JOPA3', 'JOPA4', 'JPSA3', 'JSLG3', 'KEPL3', 'KLBN11', 'KLBN3', 'KLBN4', 'LAME3', 'LAME4', 'LAND3', 'LAVV3', 'LCAM3', 'LEVE3', 'LHER3', 'LHER4', 'LIGT3', 'LINX3', 'LIPR3', 'LJQQ3', 'LLIS3', 'LOGG3', 'LOGN3', 'LPSB3', 'LREN3', 'LTEL3B', 'LUPA3', 'LUXM3', 'LUXM4', 'LVTC3', 'LWSA3', 'MAPT3', 'MAPT4', 'MATD3', 'MBLY3', 'MDIA3', 'MDNE3', 'MEAL3', 'MELK3', 'MERC3', 'MERC4', 'MGEL3', 'MGEL4', 'MGLU3', 'MILS3', 'MLAS3', 'MMXM3', 'MNDL3', 'MNPR3', 'MOAR3', 'MODL11', 'MODL3', 'MODL4', 'MOSI3', 'MOVI3', 'MRFG3', 'MRSA3B', 'MRSA5B', 'MRSA6B', 'MRVE3', 'MSPA3', 'MSPA4', 'MSRO3', 'MTIG3', 'MTIG4', 'MTRE3', 'MTSA3', 'MTSA4', 'MULT3', 'MWET3', 'MWET4', 'MYPK3', 'NAFG3', 'NAFG4', 'NEMO3', 'NEMO5', 'NEMO6', 'NEOE3', 'NGRD3', 'NINJ3', 'NORD3', 'NRTQ3', 'NTCO3', 'NUTR3', 'ODER4', 'ODPV3', 'OFSA3', 'OGXP3', 'OIBR3', 'OIBR4', 'OMGE3', 'OPCT3', 'ORVR3', 'OSXB3', 'PARD3', 'PATI3', 'PATI4', 'PCAR3', 'PCAR4', 'PDGR3', 'PDTC3', 'PEAB3', 'PEAB4', 'PETR3', 'PETR4', 'PETZ3', 'PFRM3', 'PGMN3', 'PINE3', 'PINE4', 'PLAS3', 'PLPL3', 'PMAM3', 'PNVL3', 'PNVL4', 'POMO3', 'POMO4', 'POSI3', 'POWE3', 'PPAR3', 'PPLA11', 'PRIO3', 'PRNR3', 'PSSA3', 'PTBL3', 'PTCA11', 'PTCA3', 'PTNT3', 'PTNT4', 'QUAL3', 'QUSW3', 'QVQP3B', 'RADL3', 'RAIL3', 'RAIZ4', 'RANI3', 'RANI4', 'RAPT3', 'RAPT4', 'RCSL3', 'RCSL4', 'RDNI3', 'RDOR3', 'RECV3', 'REDE3', 'RENT3', 'RLOG3', 'RNEW11', 'RNEW3', 'RNEW4', 'ROMI3', 'RPAD3', 'RPAD5', 'RPAD6', 'RPMG3', 'RRRP3', 'RSID3', 'RSUL3', 'RSUL4', 'SANB11', 'SANB3', 'SANB4', 'SAPR11', 'SAPR3', 'SAPR4', 'SBFG3', 'SBSP3', 'SCAR3', 'SEDU3', 'SEER3', 'SEQL3', 'SGPS3', 'SHOW3', 'SHUL3', 'SHUL4', 'SIMH3', 'SLCE3', 'SLED3', 'SLED4', 'SMFT3', 'SMLS3', 'SMTO3', 'SNSY3', 'SNSY5', 'SNSY6', 'SOJA3', 'SOMA3', 'SOND3', 'SOND5', 'SOND6', 'SPRT3B', 'SQIA3', 'STBP3', 'STKF3', 'STTR3', 'SULA11', 'SULA3', 'SULA4', 'SUZB3', 'TAEE11', 'TAEE3', 'TAEE4', 'TASA3', 'TASA4', 'TCNO3', 'TCNO4', 'TCSA3', 'TECN3', 'TEKA3', 'TEKA4', 'TELB3', 'TELB4', 'TEND3', 'TESA3', 'TFCO4', 'TGMA3', 'TIET11', 'TIET3', 'TIET4', 'TIMS3', 'TKNO3', 'TKNO4', 'TOTS3', 'TOYB3', 'TOYB4', 'TPIS3', 'TRAD3', 'TRIS3', 'TRPL3', 'TRPL4', 'TTEN3', 'TUPY3', 'TXRX3', 'TXRX4', 'UCAS3', 'UGPA3', 'UNIP3', 'UNIP5', 'UNIP6', 'USIM3', 'USIM5', 'USIM6', 'VALE3', 'VAMO3', 'VIVA3', 'VIVR3', 'VIVT3', 'VIVT4', 'VLID3', 'VSPT3', 'VSPT4', 'VULC3', 'VVAR3', 'WEGE3', 'WEST3', 'WHRL3', 'WHRL4', 'WIZS3', 'WLMM3', 'WLMM4', 'WSON33', 'YDUQ3']\n"
     ]
    }
   ],
   "source": [
    "# Obtendo todos os tickers da bolsa\n",
    "TICKER_LISTA = []\n",
    "for I_CONT in range(587):\n",
    "    TICKER = DADOS_STATUS_INVEST.loc[I_CONT]['TICKER']\n",
    "    TICKER_LISTA.append(TICKER)"
   ]
  },
  {
   "cell_type": "code",
   "execution_count": 41,
   "metadata": {
    "colab": {
     "base_uri": "https://localhost:8080/",
     "height": 454
    },
    "id": "REJ1Jhn5pU2E",
    "outputId": "0acb3f00-b9e9-4695-a997-0c9ea6b46c38"
   },
   "outputs": [
    {
     "name": "stdout",
     "output_type": "stream",
     "text": [
      "[*********************100%***********************]  2 of 2 completed\n"
     ]
    },
    {
     "data": {
      "text/html": [
       "<div>\n",
       "<style scoped>\n",
       "    .dataframe tbody tr th:only-of-type {\n",
       "        vertical-align: middle;\n",
       "    }\n",
       "\n",
       "    .dataframe tbody tr th {\n",
       "        vertical-align: top;\n",
       "    }\n",
       "\n",
       "    .dataframe thead th {\n",
       "        text-align: right;\n",
       "    }\n",
       "</style>\n",
       "<table border=\"1\" class=\"dataframe\">\n",
       "  <thead>\n",
       "    <tr style=\"text-align: right;\">\n",
       "      <th></th>\n",
       "      <th>ACAO</th>\n",
       "      <th>IBOV</th>\n",
       "      <th>% IBOV</th>\n",
       "      <th>% ACAO</th>\n",
       "    </tr>\n",
       "    <tr>\n",
       "      <th>Date</th>\n",
       "      <th></th>\n",
       "      <th></th>\n",
       "      <th></th>\n",
       "      <th></th>\n",
       "    </tr>\n",
       "  </thead>\n",
       "  <tbody>\n",
       "    <tr>\n",
       "      <th>2016-10-28</th>\n",
       "      <td>19.007032</td>\n",
       "      <td>64308.0</td>\n",
       "      <td>NaN</td>\n",
       "      <td>NaN</td>\n",
       "    </tr>\n",
       "    <tr>\n",
       "      <th>2016-10-31</th>\n",
       "      <td>17.878487</td>\n",
       "      <td>64925.0</td>\n",
       "      <td>0.009594</td>\n",
       "      <td>-0.059375</td>\n",
       "    </tr>\n",
       "    <tr>\n",
       "      <th>2016-11-01</th>\n",
       "      <td>17.720097</td>\n",
       "      <td>63326.0</td>\n",
       "      <td>-0.024628</td>\n",
       "      <td>-0.008859</td>\n",
       "    </tr>\n",
       "    <tr>\n",
       "      <th>2016-11-03</th>\n",
       "      <td>17.809193</td>\n",
       "      <td>61750.0</td>\n",
       "      <td>-0.024887</td>\n",
       "      <td>0.005028</td>\n",
       "    </tr>\n",
       "    <tr>\n",
       "      <th>2016-11-04</th>\n",
       "      <td>17.571604</td>\n",
       "      <td>61598.0</td>\n",
       "      <td>-0.002462</td>\n",
       "      <td>-0.013341</td>\n",
       "    </tr>\n",
       "    <tr>\n",
       "      <th>...</th>\n",
       "      <td>...</td>\n",
       "      <td>...</td>\n",
       "      <td>...</td>\n",
       "      <td>...</td>\n",
       "    </tr>\n",
       "    <tr>\n",
       "      <th>2020-12-22</th>\n",
       "      <td>10.920000</td>\n",
       "      <td>116348.0</td>\n",
       "      <td>0.002862</td>\n",
       "      <td>-0.026738</td>\n",
       "    </tr>\n",
       "    <tr>\n",
       "      <th>2020-12-23</th>\n",
       "      <td>11.050000</td>\n",
       "      <td>117857.0</td>\n",
       "      <td>0.012970</td>\n",
       "      <td>0.011905</td>\n",
       "    </tr>\n",
       "    <tr>\n",
       "      <th>2020-12-28</th>\n",
       "      <td>11.010000</td>\n",
       "      <td>119051.0</td>\n",
       "      <td>0.010131</td>\n",
       "      <td>-0.003620</td>\n",
       "    </tr>\n",
       "    <tr>\n",
       "      <th>2020-12-29</th>\n",
       "      <td>11.090000</td>\n",
       "      <td>119475.0</td>\n",
       "      <td>0.003561</td>\n",
       "      <td>0.007266</td>\n",
       "    </tr>\n",
       "    <tr>\n",
       "      <th>2020-12-30</th>\n",
       "      <td>11.100000</td>\n",
       "      <td>119306.0</td>\n",
       "      <td>-0.001415</td>\n",
       "      <td>0.000902</td>\n",
       "    </tr>\n",
       "  </tbody>\n",
       "</table>\n",
       "<p>1030 rows × 4 columns</p>\n",
       "</div>"
      ],
      "text/plain": [
       "                 ACAO      IBOV    % IBOV    % ACAO\n",
       "Date                                               \n",
       "2016-10-28  19.007032   64308.0       NaN       NaN\n",
       "2016-10-31  17.878487   64925.0  0.009594 -0.059375\n",
       "2016-11-01  17.720097   63326.0 -0.024628 -0.008859\n",
       "2016-11-03  17.809193   61750.0 -0.024887  0.005028\n",
       "2016-11-04  17.571604   61598.0 -0.002462 -0.013341\n",
       "...               ...       ...       ...       ...\n",
       "2020-12-22  10.920000  116348.0  0.002862 -0.026738\n",
       "2020-12-23  11.050000  117857.0  0.012970  0.011905\n",
       "2020-12-28  11.010000  119051.0  0.010131 -0.003620\n",
       "2020-12-29  11.090000  119475.0  0.003561  0.007266\n",
       "2020-12-30  11.100000  119306.0 -0.001415  0.000902\n",
       "\n",
       "[1030 rows x 4 columns]"
      ]
     },
     "execution_count": 41,
     "metadata": {
      "tags": []
     },
     "output_type": "execute_result"
    }
   ],
   "source": [
    "DATA_INICIAL = \"2016-01-01\"\n",
    "DATA_FINAL = \"2020-12-31\"\n",
    "REFERENCIA = \"^BVSP\"\n",
    "\n",
    "for I_CONT in range(1):\n",
    "    ACAO = TICKER_LISTA[I_CONT] + '.SA'\n",
    "    df = yf.download([ACAO, REFERENCIA], start = DATA_INICIAL, end = DATA_FINAL)[\"Adj Close\"]\n",
    "    df.columns=['ACAO','IBOV'];\n",
    "    df.dropna(inplace=True)\n",
    "    df['% IBOV'] = df['IBOV'].pct_change()\n",
    "    df['% ACAO'] = df['ACAO'].pct_change()\n",
    "\n",
    "df    "
   ]
  },
  {
   "cell_type": "code",
   "execution_count": 18,
   "metadata": {
    "colab": {
     "base_uri": "https://localhost:8080/",
     "height": 454
    },
    "id": "c0pXJc6sp3rH",
    "outputId": "a9420cd1-9742-4013-ba44-0043942b4c54"
   },
   "outputs": [
    {
     "name": "stdout",
     "output_type": "stream",
     "text": [
      "[*********************100%***********************]  2 of 2 completed\n"
     ]
    },
    {
     "data": {
      "text/html": [
       "<div>\n",
       "<style scoped>\n",
       "    .dataframe tbody tr th:only-of-type {\n",
       "        vertical-align: middle;\n",
       "    }\n",
       "\n",
       "    .dataframe tbody tr th {\n",
       "        vertical-align: top;\n",
       "    }\n",
       "\n",
       "    .dataframe thead th {\n",
       "        text-align: right;\n",
       "    }\n",
       "</style>\n",
       "<table border=\"1\" class=\"dataframe\">\n",
       "  <thead>\n",
       "    <tr style=\"text-align: right;\">\n",
       "      <th></th>\n",
       "      <th>Asset</th>\n",
       "      <th>Benchmark</th>\n",
       "    </tr>\n",
       "    <tr>\n",
       "      <th>Date</th>\n",
       "      <th></th>\n",
       "      <th></th>\n",
       "    </tr>\n",
       "  </thead>\n",
       "  <tbody>\n",
       "    <tr>\n",
       "      <th>2019-01-02</th>\n",
       "      <td>44.829338</td>\n",
       "      <td>91012.0</td>\n",
       "    </tr>\n",
       "    <tr>\n",
       "      <th>2019-01-03</th>\n",
       "      <td>42.995453</td>\n",
       "      <td>91564.0</td>\n",
       "    </tr>\n",
       "    <tr>\n",
       "      <th>2019-01-04</th>\n",
       "      <td>45.794544</td>\n",
       "      <td>91841.0</td>\n",
       "    </tr>\n",
       "    <tr>\n",
       "      <th>2019-01-07</th>\n",
       "      <td>45.548859</td>\n",
       "      <td>91699.0</td>\n",
       "    </tr>\n",
       "    <tr>\n",
       "      <th>2019-01-08</th>\n",
       "      <td>45.987583</td>\n",
       "      <td>92032.0</td>\n",
       "    </tr>\n",
       "    <tr>\n",
       "      <th>...</th>\n",
       "      <td>...</td>\n",
       "      <td>...</td>\n",
       "    </tr>\n",
       "    <tr>\n",
       "      <th>2020-12-22</th>\n",
       "      <td>81.581139</td>\n",
       "      <td>116348.0</td>\n",
       "    </tr>\n",
       "    <tr>\n",
       "      <th>2020-12-23</th>\n",
       "      <td>81.975250</td>\n",
       "      <td>117857.0</td>\n",
       "    </tr>\n",
       "    <tr>\n",
       "      <th>2020-12-28</th>\n",
       "      <td>81.928322</td>\n",
       "      <td>119051.0</td>\n",
       "    </tr>\n",
       "    <tr>\n",
       "      <th>2020-12-29</th>\n",
       "      <td>81.703117</td>\n",
       "      <td>119475.0</td>\n",
       "    </tr>\n",
       "    <tr>\n",
       "      <th>2020-12-30</th>\n",
       "      <td>82.059692</td>\n",
       "      <td>119306.0</td>\n",
       "    </tr>\n",
       "  </tbody>\n",
       "</table>\n",
       "<p>494 rows × 2 columns</p>\n",
       "</div>"
      ],
      "text/plain": [
       "                Asset  Benchmark\n",
       "Date                            \n",
       "2019-01-02  44.829338    91012.0\n",
       "2019-01-03  42.995453    91564.0\n",
       "2019-01-04  45.794544    91841.0\n",
       "2019-01-07  45.548859    91699.0\n",
       "2019-01-08  45.987583    92032.0\n",
       "...               ...        ...\n",
       "2020-12-22  81.581139   116348.0\n",
       "2020-12-23  81.975250   117857.0\n",
       "2020-12-28  81.928322   119051.0\n",
       "2020-12-29  81.703117   119475.0\n",
       "2020-12-30  82.059692   119306.0\n",
       "\n",
       "[494 rows x 2 columns]"
      ]
     },
     "execution_count": 18,
     "metadata": {
      "tags": []
     },
     "output_type": "execute_result"
    }
   ],
   "source": [
    "start_date = \"2019-01-01\"\n",
    "end_date = \"2020-12-31\"\n",
    "bench_name = \"^BVSP\"\n",
    "asset_name = \"VALE3.SA\"\n",
    "df = yf.download([asset_name, bench_name], start = start_date, end = end_date)[\"Adj Close\"]\n",
    "df.columns=['Asset','Benchmark'];\n",
    "df.dropna(inplace=True)\n",
    "df"
   ]
  },
  {
   "cell_type": "code",
   "execution_count": 42,
   "metadata": {
    "colab": {
     "base_uri": "https://localhost:8080/",
     "height": 436
    },
    "id": "Y4utL9X1uBKa",
    "outputId": "d52a3113-614f-46c4-c19b-2d3497a4d842"
   },
   "outputs": [
    {
     "data": {
      "text/html": [
       "<div>\n",
       "<style scoped>\n",
       "    .dataframe tbody tr th:only-of-type {\n",
       "        vertical-align: middle;\n",
       "    }\n",
       "\n",
       "    .dataframe tbody tr th {\n",
       "        vertical-align: top;\n",
       "    }\n",
       "\n",
       "    .dataframe thead th {\n",
       "        text-align: right;\n",
       "    }\n",
       "</style>\n",
       "<table border=\"1\" class=\"dataframe\">\n",
       "  <thead>\n",
       "    <tr style=\"text-align: right;\">\n",
       "      <th></th>\n",
       "      <th>ACAO</th>\n",
       "      <th>IBOV</th>\n",
       "      <th>% IBOV</th>\n",
       "      <th>% ACAO</th>\n",
       "    </tr>\n",
       "    <tr>\n",
       "      <th>Date</th>\n",
       "      <th></th>\n",
       "      <th></th>\n",
       "      <th></th>\n",
       "      <th></th>\n",
       "    </tr>\n",
       "  </thead>\n",
       "  <tbody>\n",
       "    <tr>\n",
       "      <th>2016-10-31</th>\n",
       "      <td>17.878487</td>\n",
       "      <td>64925.0</td>\n",
       "      <td>0.009594</td>\n",
       "      <td>-0.059375</td>\n",
       "    </tr>\n",
       "    <tr>\n",
       "      <th>2016-11-01</th>\n",
       "      <td>17.720097</td>\n",
       "      <td>63326.0</td>\n",
       "      <td>-0.024628</td>\n",
       "      <td>-0.008859</td>\n",
       "    </tr>\n",
       "    <tr>\n",
       "      <th>2016-11-03</th>\n",
       "      <td>17.809193</td>\n",
       "      <td>61750.0</td>\n",
       "      <td>-0.024887</td>\n",
       "      <td>0.005028</td>\n",
       "    </tr>\n",
       "    <tr>\n",
       "      <th>2016-11-04</th>\n",
       "      <td>17.571604</td>\n",
       "      <td>61598.0</td>\n",
       "      <td>-0.002462</td>\n",
       "      <td>-0.013341</td>\n",
       "    </tr>\n",
       "    <tr>\n",
       "      <th>2016-11-07</th>\n",
       "      <td>17.472610</td>\n",
       "      <td>64052.0</td>\n",
       "      <td>0.039839</td>\n",
       "      <td>-0.005634</td>\n",
       "    </tr>\n",
       "    <tr>\n",
       "      <th>...</th>\n",
       "      <td>...</td>\n",
       "      <td>...</td>\n",
       "      <td>...</td>\n",
       "      <td>...</td>\n",
       "    </tr>\n",
       "    <tr>\n",
       "      <th>2020-12-22</th>\n",
       "      <td>10.920000</td>\n",
       "      <td>116348.0</td>\n",
       "      <td>0.002862</td>\n",
       "      <td>-0.026738</td>\n",
       "    </tr>\n",
       "    <tr>\n",
       "      <th>2020-12-23</th>\n",
       "      <td>11.050000</td>\n",
       "      <td>117857.0</td>\n",
       "      <td>0.012970</td>\n",
       "      <td>0.011905</td>\n",
       "    </tr>\n",
       "    <tr>\n",
       "      <th>2020-12-28</th>\n",
       "      <td>11.010000</td>\n",
       "      <td>119051.0</td>\n",
       "      <td>0.010131</td>\n",
       "      <td>-0.003620</td>\n",
       "    </tr>\n",
       "    <tr>\n",
       "      <th>2020-12-29</th>\n",
       "      <td>11.090000</td>\n",
       "      <td>119475.0</td>\n",
       "      <td>0.003561</td>\n",
       "      <td>0.007266</td>\n",
       "    </tr>\n",
       "    <tr>\n",
       "      <th>2020-12-30</th>\n",
       "      <td>11.100000</td>\n",
       "      <td>119306.0</td>\n",
       "      <td>-0.001415</td>\n",
       "      <td>0.000902</td>\n",
       "    </tr>\n",
       "  </tbody>\n",
       "</table>\n",
       "<p>1029 rows × 4 columns</p>\n",
       "</div>"
      ],
      "text/plain": [
       "                 ACAO      IBOV    % IBOV    % ACAO\n",
       "Date                                               \n",
       "2016-10-31  17.878487   64925.0  0.009594 -0.059375\n",
       "2016-11-01  17.720097   63326.0 -0.024628 -0.008859\n",
       "2016-11-03  17.809193   61750.0 -0.024887  0.005028\n",
       "2016-11-04  17.571604   61598.0 -0.002462 -0.013341\n",
       "2016-11-07  17.472610   64052.0  0.039839 -0.005634\n",
       "...               ...       ...       ...       ...\n",
       "2020-12-22  10.920000  116348.0  0.002862 -0.026738\n",
       "2020-12-23  11.050000  117857.0  0.012970  0.011905\n",
       "2020-12-28  11.010000  119051.0  0.010131 -0.003620\n",
       "2020-12-29  11.090000  119475.0  0.003561  0.007266\n",
       "2020-12-30  11.100000  119306.0 -0.001415  0.000902\n",
       "\n",
       "[1029 rows x 4 columns]"
      ]
     },
     "execution_count": 42,
     "metadata": {
      "tags": []
     },
     "output_type": "execute_result"
    }
   ],
   "source": [
    "df[1:]"
   ]
  },
  {
   "cell_type": "code",
   "execution_count": 43,
   "metadata": {
    "colab": {
     "base_uri": "https://localhost:8080/"
    },
    "id": "mIzq0ktEuqEF",
    "outputId": "bc1a371b-2e7f-4906-e4d4-01ed6958f21e"
   },
   "outputs": [
    {
     "data": {
      "text/plain": [
       "0.6519517666918625"
      ]
     },
     "execution_count": 43,
     "metadata": {
      "tags": []
     },
     "output_type": "execute_result"
    }
   ],
   "source": [
    "beta_1 = df[\"% ACAO\"].cov(df[\"% IBOV\"]) / df[\"% IBOV\"].var()\n",
    "beta_1"
   ]
  },
  {
   "cell_type": "code",
   "execution_count": 45,
   "metadata": {
    "id": "loCN09f0wQY2"
   },
   "outputs": [],
   "source": [
    "df = pd.DataFrame([(1, 2), (0, 3), (2, 0), (1, 1)],\n",
    "                  columns=['dogs', 'cats'])"
   ]
  },
  {
   "cell_type": "code",
   "execution_count": 46,
   "metadata": {
    "colab": {
     "base_uri": "https://localhost:8080/",
     "height": 107
    },
    "id": "RKLOmxNwwVDA",
    "outputId": "cd7aac66-e6b0-4a03-9f6a-60048b78cf2c"
   },
   "outputs": [
    {
     "data": {
      "text/html": [
       "<div>\n",
       "<style scoped>\n",
       "    .dataframe tbody tr th:only-of-type {\n",
       "        vertical-align: middle;\n",
       "    }\n",
       "\n",
       "    .dataframe tbody tr th {\n",
       "        vertical-align: top;\n",
       "    }\n",
       "\n",
       "    .dataframe thead th {\n",
       "        text-align: right;\n",
       "    }\n",
       "</style>\n",
       "<table border=\"1\" class=\"dataframe\">\n",
       "  <thead>\n",
       "    <tr style=\"text-align: right;\">\n",
       "      <th></th>\n",
       "      <th>dogs</th>\n",
       "      <th>cats</th>\n",
       "    </tr>\n",
       "  </thead>\n",
       "  <tbody>\n",
       "    <tr>\n",
       "      <th>dogs</th>\n",
       "      <td>0.666667</td>\n",
       "      <td>-1.000000</td>\n",
       "    </tr>\n",
       "    <tr>\n",
       "      <th>cats</th>\n",
       "      <td>-1.000000</td>\n",
       "      <td>1.666667</td>\n",
       "    </tr>\n",
       "  </tbody>\n",
       "</table>\n",
       "</div>"
      ],
      "text/plain": [
       "          dogs      cats\n",
       "dogs  0.666667 -1.000000\n",
       "cats -1.000000  1.666667"
      ]
     },
     "execution_count": 46,
     "metadata": {
      "tags": []
     },
     "output_type": "execute_result"
    }
   ],
   "source": [
    "df.cov()"
   ]
  },
  {
   "cell_type": "code",
   "execution_count": 49,
   "metadata": {
    "colab": {
     "base_uri": "https://localhost:8080/"
    },
    "id": "om5ED7BgwWmK",
    "outputId": "d30fee85-add2-45d1-a480-0e970f14be0b"
   },
   "outputs": [
    {
     "data": {
      "text/plain": [
       "-1.0"
      ]
     },
     "execution_count": 49,
     "metadata": {
      "tags": []
     },
     "output_type": "execute_result"
    }
   ],
   "source": [
    "df['dogs'].cov(df['cats'])"
   ]
  }
 ],
 "metadata": {
  "colab": {
   "name": "Untitled0.ipynb",
   "provenance": []
  },
  "kernelspec": {
   "display_name": "Python 3",
   "language": "python",
   "name": "python3"
  },
  "language_info": {
   "codemirror_mode": {
    "name": "ipython",
    "version": 3
   },
   "file_extension": ".py",
   "mimetype": "text/x-python",
   "name": "python",
   "nbconvert_exporter": "python",
   "pygments_lexer": "ipython3",
   "version": "3.8.3"
  }
 },
 "nbformat": 4,
 "nbformat_minor": 1
}
