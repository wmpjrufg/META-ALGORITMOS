{
 "cells": [
  {
   "cell_type": "markdown",
   "metadata": {},
   "source": [
    "## 1.0 Import Function"
   ]
  },
  {
   "cell_type": "code",
   "execution_count": 1,
   "metadata": {},
   "outputs": [],
   "source": [
    "from META_TOOLBOX import *\n",
    "import VIGA_VERIFICA as VIGA_VER"
   ]
  },
  {
   "cell_type": "markdown",
   "metadata": {},
   "source": [
    "## 2.0 Setup "
   ]
  },
  {
   "cell_type": "code",
   "execution_count": 2,
   "metadata": {},
   "outputs": [],
   "source": [
    "SETUP = {'N_REP': 30,\n",
    "         'N_ITER': 100,\n",
    "         'N_POP': 1,\n",
    "         'D': 4,\n",
    "         'X_L': [0.25, 0.05, 0.05, 1/6.0],\n",
    "         'X_U': [0.65, 0.15, 0.15, 1/3.5],\n",
    "         'SIGMA': 0.15,\n",
    "         'ALPHA': 0.98,\n",
    "         'TEMP': None,\n",
    "         'STOP_CONTROL_TEMP': None,\n",
    "         'NULL_DIC': None\n",
    "        }"
   ]
  },
  {
   "cell_type": "markdown",
   "metadata": {},
   "source": [
    "## 3.0 OF"
   ]
  },
  {
   "cell_type": "code",
   "execution_count": 3,
   "metadata": {},
   "outputs": [],
   "source": [
    "# OBJ. Function\n",
    "def OF_FUNCTION(X, NULL_DIC):\n",
    "    # Geometria da viga\n",
    "    VIGA = {'H_W': X[0],\n",
    "            'B_W': X[1],\n",
    "            'B_FS': 0.30,\n",
    "            'B_FI': 0.30,\n",
    "            'H_FS': X[2],\n",
    "            'H_FI': X[2],\n",
    "            'H_SI': 0.07,\n",
    "            'H_II': 0.07,\n",
    "            'COB': 0.035,\n",
    "            'PHI_L': 12.5 / 1E3,\n",
    "            'PHI_E': 10.0 / 1E3,\n",
    "            'L': 20,\n",
    "            'L_PISTA': 150,\n",
    "            'FATOR_SEC': 'I',\n",
    "            'DELTA_ANC': 6 / 1E3,\n",
    "            'TEMPO_CONC': [2.00, 3.00, 28.0, 35.0, 45, 50 * 365],\n",
    "            'TEMPO_ACO': [3.00, 4.00, 29.0, 36.0, 46, 51 * 365],\n",
    "            'TEMP': 30,\n",
    "            'U': 40,\n",
    "            'PERDA_INICIAL': 8.00,\n",
    "            'PERDA_TEMPO': 17.00,\n",
    "            'E_SCP': 200E6,\n",
    "            'PHO_S': 78,\n",
    "            'F_PK': 1864210.526,\n",
    "            'F_YK': 1676573.427,\n",
    "            'LAMBA_SIG': 1,\n",
    "            'TIPO_FIO_CORD_BAR': 'COR',\n",
    "            'TIPO_PROT': 'PRE',\n",
    "            'TIPO_ACO': 'RB',\n",
    "            'PHO_C': 25,\n",
    "            'F_CK': 50 * 1E3,\n",
    "            'CIMENTO': 'CP5',\n",
    "            'AGREGADO': 'GRA',\n",
    "            'ABAT': 0.09,\n",
    "            'G_2K': 1.55 + 0.70,\n",
    "            'Q_1K': 1.5,\n",
    "            'PSI_1': 0.40,\n",
    "            'PSI_2': 0.30,\n",
    "            'GAMMA_F1': 1.30,\n",
    "            'GAMMA_F2': 1.40,\n",
    "            'GAMMA_S':1.15,\n",
    "            'ETA_1':1.2,\n",
    "            'ETA_2':1.0,\n",
    "            'E_PPROPORCAO': X[3]}\n",
    "    G, A_C, A_SCP = VIGA_VER.VERIFICACAO_VIGA(VIGA)\n",
    "    PESO = VIGA['L'] * A_C *  VIGA['PHO_C']\n",
    "    OF = PESO\n",
    "    for I_CONT in range(len(G)):\n",
    "        OF += (max(0, G[I_CONT]) ** 2) * 1E6\n",
    "    return OF"
   ]
  },
  {
   "cell_type": "markdown",
   "metadata": {},
   "source": [
    "## 4.0 Example"
   ]
  },
  {
   "cell_type": "code",
   "execution_count": 4,
   "metadata": {},
   "outputs": [],
   "source": [
    "[RESULTS_REP, BEST_REP, AVERAGE_REP, WORST_REP, STATUS] = SA_ALGORITHM_0001(OF_FUNCTION, SETUP)"
   ]
  },
  {
   "cell_type": "markdown",
   "metadata": {},
   "source": [
    "## 5.0 View results"
   ]
  },
  {
   "cell_type": "code",
   "execution_count": 5,
   "metadata": {},
   "outputs": [
    {
     "data": {
      "text/plain": [
       "array([ 1, 24, 27,  5, 15, 16, 29,  7, 21, 17, 19, 13, 26,  4, 28,  3, 18,\n",
       "       14,  2,  9,  8,  6, 22, 20, 12, 23, 10, 25, 11,  0], dtype=int64)"
      ]
     },
     "execution_count": 5,
     "metadata": {},
     "output_type": "execute_result"
    }
   ],
   "source": [
    "STATUS"
   ]
  },
  {
   "cell_type": "code",
   "execution_count": 6,
   "metadata": {},
   "outputs": [
    {
     "data": {
      "text/plain": [
       "1"
      ]
     },
     "execution_count": 6,
     "metadata": {},
     "output_type": "execute_result"
    }
   ],
   "source": [
    "MELHOR = STATUS[0]\n",
    "MELHOR"
   ]
  },
  {
   "cell_type": "code",
   "execution_count": 7,
   "metadata": {},
   "outputs": [
    {
     "data": {
      "text/plain": [
       "{'X_POSITION': array([[0.4180159 , 0.09046309, 0.11278091, 0.27347783],\n",
       "        [0.32519222, 0.08544429, 0.11787156, 0.27686598],\n",
       "        [0.32519222, 0.08544429, 0.11787156, 0.27686598],\n",
       "        [0.32519222, 0.08544429, 0.11787156, 0.27686598],\n",
       "        [0.34304548, 0.08295879, 0.11451118, 0.28571429],\n",
       "        [0.34304548, 0.08295879, 0.11451118, 0.28571429],\n",
       "        [0.34304548, 0.08295879, 0.11451118, 0.28571429],\n",
       "        [0.37159672, 0.08294574, 0.13908007, 0.28571429],\n",
       "        [0.37159672, 0.08294574, 0.13908007, 0.28571429],\n",
       "        [0.37159672, 0.08294574, 0.13908007, 0.28571429],\n",
       "        [0.37767783, 0.06656135, 0.14224614, 0.28571429],\n",
       "        [0.37767783, 0.06656135, 0.14224614, 0.28571429],\n",
       "        [0.41668988, 0.05877363, 0.15      , 0.28571429],\n",
       "        [0.44713255, 0.05599606, 0.1395731 , 0.28571429],\n",
       "        [0.44713255, 0.05599606, 0.1395731 , 0.28571429],\n",
       "        [0.44713255, 0.05599606, 0.1395731 , 0.28571429],\n",
       "        [0.43250665, 0.06658166, 0.14289577, 0.28571429],\n",
       "        [0.43250665, 0.06658166, 0.14289577, 0.28571429],\n",
       "        [0.50835378, 0.07729515, 0.15      , 0.27900286],\n",
       "        [0.50449589, 0.08786166, 0.15      , 0.28571429],\n",
       "        [0.48459929, 0.07208367, 0.14375817, 0.28571429],\n",
       "        [0.48459929, 0.07208367, 0.14375817, 0.28571429],\n",
       "        [0.48178439, 0.07475808, 0.15      , 0.28571429],\n",
       "        [0.48178439, 0.07475808, 0.15      , 0.28571429],\n",
       "        [0.59814247, 0.08756275, 0.14366262, 0.28571429],\n",
       "        [0.59814247, 0.08756275, 0.14366262, 0.28571429],\n",
       "        [0.59814247, 0.08756275, 0.14366262, 0.28571429],\n",
       "        [0.59814247, 0.08756275, 0.14366262, 0.28571429],\n",
       "        [0.47626781, 0.0888575 , 0.13131376, 0.28571429],\n",
       "        [0.51707348, 0.1062819 , 0.10224243, 0.28571429],\n",
       "        [0.63557112, 0.1228564 , 0.08898429, 0.26745411],\n",
       "        [0.65      , 0.12630912, 0.09934398, 0.28571429],\n",
       "        [0.57597982, 0.15      , 0.08531209, 0.24842499],\n",
       "        [0.41027528, 0.15      , 0.06306298, 0.26230095],\n",
       "        [0.4199612 , 0.12181807, 0.06405257, 0.28571429],\n",
       "        [0.4199612 , 0.12181807, 0.06405257, 0.28571429],\n",
       "        [0.44681189, 0.12209958, 0.07563263, 0.28571429],\n",
       "        [0.44681189, 0.12209958, 0.07563263, 0.28571429],\n",
       "        [0.44681189, 0.12209958, 0.07563263, 0.28571429],\n",
       "        [0.44681189, 0.12209958, 0.07563263, 0.28571429],\n",
       "        [0.48686517, 0.1484856 , 0.08427542, 0.28571429],\n",
       "        [0.50792427, 0.12374646, 0.09691731, 0.28247628],\n",
       "        [0.47046017, 0.11950365, 0.11468101, 0.28571429],\n",
       "        [0.44454712, 0.10983755, 0.11359081, 0.28571429],\n",
       "        [0.48985746, 0.09977569, 0.11103801, 0.28571429],\n",
       "        [0.44691431, 0.10871747, 0.09381881, 0.28571429],\n",
       "        [0.39137093, 0.11533849, 0.08699551, 0.28571429],\n",
       "        [0.37428203, 0.09997391, 0.07581206, 0.2687638 ],\n",
       "        [0.39368435, 0.094778  , 0.05830612, 0.27886616],\n",
       "        [0.41239226, 0.07974307, 0.05152942, 0.28571429],\n",
       "        [0.41239226, 0.07974307, 0.05152942, 0.28571429],\n",
       "        [0.52153958, 0.08055174, 0.0560019 , 0.28571429],\n",
       "        [0.46352001, 0.08158901, 0.06268799, 0.28571429],\n",
       "        [0.46352001, 0.08158901, 0.06268799, 0.28571429],\n",
       "        [0.46352001, 0.08158901, 0.06268799, 0.28571429],\n",
       "        [0.54890899, 0.08175009, 0.05565781, 0.28571429],\n",
       "        [0.54395527, 0.08384979, 0.05      , 0.28571429],\n",
       "        [0.54395527, 0.08384979, 0.05      , 0.28571429],\n",
       "        [0.54395527, 0.08384979, 0.05      , 0.28571429],\n",
       "        [0.54395527, 0.08384979, 0.05      , 0.28571429],\n",
       "        [0.54395527, 0.08384979, 0.05      , 0.28571429],\n",
       "        [0.61337659, 0.08000118, 0.05801967, 0.28571429],\n",
       "        [0.65      , 0.09245954, 0.05146255, 0.28230258],\n",
       "        [0.65      , 0.10086438, 0.05243226, 0.27070561],\n",
       "        [0.65      , 0.10086438, 0.05243226, 0.27070561],\n",
       "        [0.65      , 0.10086438, 0.05243226, 0.27070561],\n",
       "        [0.65      , 0.13209555, 0.0684298 , 0.26972826],\n",
       "        [0.65      , 0.14130989, 0.07238047, 0.28571429],\n",
       "        [0.64123872, 0.1315362 , 0.06263724, 0.28571429],\n",
       "        [0.64791676, 0.14768773, 0.05988008, 0.28571429],\n",
       "        [0.59029195, 0.14782487, 0.05497975, 0.25318388],\n",
       "        [0.62449959, 0.14228504, 0.0526164 , 0.2580886 ],\n",
       "        [0.62449959, 0.14228504, 0.0526164 , 0.2580886 ],\n",
       "        [0.55783156, 0.13348651, 0.06172728, 0.28571429],\n",
       "        [0.61447069, 0.15      , 0.07949226, 0.28571429],\n",
       "        [0.51741205, 0.15      , 0.09259955, 0.28571429],\n",
       "        [0.45372056, 0.15      , 0.12980135, 0.28571429],\n",
       "        [0.4485128 , 0.15      , 0.14158778, 0.2782722 ],\n",
       "        [0.43259948, 0.15      , 0.14314553, 0.28571429],\n",
       "        [0.43259948, 0.15      , 0.14314553, 0.28571429],\n",
       "        [0.40476037, 0.15      , 0.11996287, 0.26567337],\n",
       "        [0.45125769, 0.15      , 0.12063532, 0.28571429],\n",
       "        [0.41500426, 0.13342682, 0.11776775, 0.26156461],\n",
       "        [0.41500426, 0.13342682, 0.11776775, 0.26156461],\n",
       "        [0.41500426, 0.13342682, 0.11776775, 0.26156461],\n",
       "        [0.41500426, 0.13342682, 0.11776775, 0.26156461],\n",
       "        [0.50375995, 0.14039187, 0.10121232, 0.26447304],\n",
       "        [0.47589083, 0.15      , 0.10517801, 0.26722698],\n",
       "        [0.43737541, 0.12789945, 0.10545673, 0.25613785],\n",
       "        [0.33922371, 0.15      , 0.09395744, 0.27003343],\n",
       "        [0.32735803, 0.13218832, 0.08418605, 0.27457631],\n",
       "        [0.32495286, 0.15      , 0.0742265 , 0.28571429],\n",
       "        [0.32495286, 0.15      , 0.0742265 , 0.28571429],\n",
       "        [0.37045111, 0.15      , 0.08105379, 0.28571429],\n",
       "        [0.34691059, 0.15      , 0.08193677, 0.28571429],\n",
       "        [0.33294294, 0.15      , 0.08290509, 0.28571429],\n",
       "        [0.39473223, 0.15      , 0.09380285, 0.28571429],\n",
       "        [0.41914644, 0.12956102, 0.07047075, 0.28571429],\n",
       "        [0.42298413, 0.14466189, 0.05      , 0.27443193],\n",
       "        [0.42298413, 0.14466189, 0.05      , 0.27443193],\n",
       "        [0.42298413, 0.14466189, 0.05      , 0.27443193]]),\n",
       " 'OF': array([3408.89806359, 2526.80967305, 2526.80967305, 2526.80967305,\n",
       "        1794.5126214 , 1794.5126214 , 1794.5126214 , 1236.27354521,\n",
       "        1236.27354521, 1236.27354521, 3667.03815483, 3667.03815483,\n",
       "        5925.42535472, 8816.9472291 , 8816.9472291 , 8816.9472291 ,\n",
       "        4723.38575654, 4723.38575654, 4330.79056004, 1219.60040619,\n",
       "        4118.7486455 , 4118.7486455 , 3151.88869316, 3151.88869316,\n",
       "        1734.65721737, 1734.65721737, 1734.65721737, 1734.65721737,\n",
       "        1418.36305977,  258.64284193,  204.18357968,   85.77447933,\n",
       "          90.64422873,  107.37921108,   59.55883441,   59.55883441,\n",
       "          64.7410468 ,   64.7410468 ,   64.7410468 ,   64.7410468 ,\n",
       "          77.12585532,   75.33323187,   77.19778344,  110.54387059,\n",
       "         621.16396648,  187.00435312,   63.20556587, 1607.02898463,\n",
       "         654.08205282, 1545.1830395 , 1545.1830395 , 2357.62058001,\n",
       "        2220.22982567, 2220.22982567, 2220.22982567, 2158.88025266,\n",
       "        1397.95036141, 1397.95036141, 1397.95036141, 1397.95036141,\n",
       "        1397.95036141, 2866.27590479,  609.64885402,  711.64631113,\n",
       "         711.64631113,  711.64631113,   78.58334089,   83.08570162,\n",
       "          76.06798942,   81.47777469,   75.79770846,   75.69337301,\n",
       "          75.69337301,   70.92170635,   85.68297962,   82.33576877,\n",
       "          88.71944555,   91.86479302,   91.13862052,   91.13862052,\n",
       "          82.0958881 ,   85.7849223 ,  210.50373426,  210.50373426,\n",
       "         210.50373426,  210.50373426,   81.13931043,   82.99521549,\n",
       "        1042.04415753,   83.85878533,  270.22699215,   62.38941549,\n",
       "          62.38941549,   67.84996915,   66.34932561,   65.59224669,\n",
       "          73.49577237,   63.32838073,   61.15800783,   61.15800783,\n",
       "          61.15800783]),\n",
       " 'FIT': array([0.00029326, 0.0003956 , 0.0003956 , 0.0003956 , 0.00055694,\n",
       "        0.00055694, 0.00055694, 0.00080823, 0.00080823, 0.00080823,\n",
       "        0.00027263, 0.00027263, 0.00016874, 0.00011341, 0.00011341,\n",
       "        0.00011341, 0.00021167, 0.00021167, 0.00023085, 0.00081927,\n",
       "        0.00024273, 0.00024273, 0.00031717, 0.00031717, 0.00057615,\n",
       "        0.00057615, 0.00057615, 0.00057615, 0.00070454, 0.00385144,\n",
       "        0.00487368, 0.01152413, 0.01091176, 0.00922686, 0.01651287,\n",
       "        0.01651287, 0.0152112 , 0.0152112 , 0.0152112 , 0.0152112 ,\n",
       "        0.01279986, 0.01310045, 0.01278809, 0.00896508, 0.00160729,\n",
       "        0.00531903, 0.01557497, 0.00062188, 0.00152653, 0.00064675,\n",
       "        0.00064675, 0.00042398, 0.0004502 , 0.0004502 , 0.0004502 ,\n",
       "        0.00046299, 0.00071482, 0.00071482, 0.00071482, 0.00071482,\n",
       "        0.00071482, 0.00034876, 0.0016376 , 0.00140322, 0.00140322,\n",
       "        0.00140322, 0.01256544, 0.01189263, 0.01297556, 0.01212448,\n",
       "        0.01302122, 0.01303894, 0.01303894, 0.01390401, 0.01153629,\n",
       "        0.01199965, 0.01114586, 0.01076834, 0.01085321, 0.01085321,\n",
       "        0.01203429, 0.01152274, 0.00472805, 0.00472805, 0.00472805,\n",
       "        0.00472805, 0.01217444, 0.01190544, 0.00095873, 0.01178428,\n",
       "        0.00368695, 0.0157755 , 0.0157755 , 0.01452433, 0.01484796,\n",
       "        0.01501676, 0.01342358, 0.01554524, 0.01608803, 0.01608803,\n",
       "        0.01608803]),\n",
       " 'SA_PARAMETERS': array([3858.99302592, 3858.99302592, 3781.81316541, 3706.1769021 ,\n",
       "        3632.05336406, 3559.41229677, 3488.22405084, 3418.45956982,\n",
       "        3350.09037843, 3283.08857086, 3217.42679944, 3153.07826345,\n",
       "        3090.01669818, 3028.21636422, 2967.65203693, 2908.2989962 ,\n",
       "        2850.13301627, 2793.13035595, 2737.26774883, 2682.52239385,\n",
       "        2628.87194597, 2576.29450705, 2524.76861691, 2474.27324457,\n",
       "        2424.78777968, 2376.29202409, 2328.76618361, 2282.19085994,\n",
       "        2236.54704274, 2191.81610188, 2147.97977984, 2105.02018425,\n",
       "        2062.91978056, 2021.66138495, 1981.22815725, 1941.60359411,\n",
       "        1902.77152223, 1864.71609178, 1827.42176995, 1790.87333455,\n",
       "        1755.05586786, 1719.9547505 , 1685.55565549, 1651.84454238,\n",
       "        1618.80765153, 1586.4314985 , 1554.70286853, 1523.60881116,\n",
       "        1493.13663494, 1463.27390224, 1434.00842419, 1405.32825571,\n",
       "        1377.2216906 , 1349.67725678, 1322.68371165, 1296.23003741,\n",
       "        1270.30543667, 1244.89932793, 1220.00134137, 1195.60131455,\n",
       "        1171.68928826, 1148.25550249, 1125.29039244, 1102.78458459,\n",
       "        1080.7288929 , 1059.11431504, 1037.93202874, 1017.17338817,\n",
       "         996.8299204 ,  976.893322  ,  957.35545556,  938.20834644,\n",
       "         919.44417952,  901.05529592,  883.03419001,  865.37350621,\n",
       "         848.06603608,  831.10471536,  814.48262105,  798.19296863,\n",
       "         782.22910926,  766.58452707,  751.25283653,  736.2277798 ,\n",
       "         721.50322421,  707.07315972,  692.93169653,  679.0730626 ,\n",
       "         665.49160135,  652.18176932,  639.13813393,  626.35537125,\n",
       "         613.82826383,  601.55169855,  589.52066458,  577.73025129,\n",
       "         566.17564626,  554.85213334,  543.75509067,  532.87998886,\n",
       "         522.22238908]),\n",
       " 'NEOF': array([  1.,   2.,   3.,   4.,   5.,   6.,   7.,   8.,   9.,  10.,  11.,\n",
       "         12.,  13.,  14.,  15.,  16.,  17.,  18.,  19.,  20.,  21.,  22.,\n",
       "         23.,  24.,  25.,  26.,  27.,  28.,  29.,  30.,  31.,  32.,  33.,\n",
       "         34.,  35.,  36.,  37.,  38.,  39.,  40.,  41.,  42.,  43.,  44.,\n",
       "         45.,  46.,  47.,  48.,  49.,  50.,  51.,  52.,  53.,  54.,  55.,\n",
       "         56.,  57.,  58.,  59.,  60.,  61.,  62.,  63.,  64.,  65.,  66.,\n",
       "         67.,  68.,  69.,  70.,  71.,  72.,  73.,  74.,  75.,  76.,  77.,\n",
       "         78.,  79.,  80.,  81.,  82.,  83.,  84.,  85.,  86.,  87.,  88.,\n",
       "         89.,  90.,  91.,  92.,  93.,  94.,  95.,  96.,  97.,  98.,  99.,\n",
       "        100., 101.]),\n",
       " 'ID_PARTICLE': array([0., 0., 0., 0., 0., 0., 0., 0., 0., 0., 0., 0., 0., 0., 0., 0., 0.,\n",
       "        0., 0., 0., 0., 0., 0., 0., 0., 0., 0., 0., 0., 0., 0., 0., 0., 0.,\n",
       "        0., 0., 0., 0., 0., 0., 0., 0., 0., 0., 0., 0., 0., 0., 0., 0., 0.,\n",
       "        0., 0., 0., 0., 0., 0., 0., 0., 0., 0., 0., 0., 0., 0., 0., 0., 0.,\n",
       "        0., 0., 0., 0., 0., 0., 0., 0., 0., 0., 0., 0., 0., 0., 0., 0., 0.,\n",
       "        0., 0., 0., 0., 0., 0., 0., 0., 0., 0., 0., 0., 0., 0., 0., 0.])}"
      ]
     },
     "execution_count": 7,
     "metadata": {},
     "output_type": "execute_result"
    }
   ],
   "source": [
    "BEST_REP[MELHOR]"
   ]
  },
  {
   "cell_type": "code",
   "execution_count": 8,
   "metadata": {},
   "outputs": [
    {
     "data": {
      "text/plain": [
       "array([ 1, 24, 27,  5, 15, 16, 29,  7, 21, 17, 19, 13, 26,  4, 28,  3, 18,\n",
       "       14,  2,  9,  8,  6, 22, 20, 12, 23, 10, 25, 11,  0], dtype=int64)"
      ]
     },
     "execution_count": 8,
     "metadata": {},
     "output_type": "execute_result"
    }
   ],
   "source": [
    "STATUS"
   ]
  },
  {
   "cell_type": "code",
   "execution_count": 9,
   "metadata": {},
   "outputs": [],
   "source": [
    "BEST = BEST_REP[MELHOR]"
   ]
  },
  {
   "cell_type": "code",
   "execution_count": 10,
   "metadata": {},
   "outputs": [
    {
     "name": "stderr",
     "output_type": "stream",
     "text": [
      "C:\\ProgramData\\Anaconda3\\lib\\site-packages\\seaborn\\_decorators.py:36: FutureWarning: Pass the following variable as a keyword arg: x. From version 0.12, the only valid positional argument will be `data`, and passing other arguments without an explicit keyword will result in an error or misinterpretation.\n",
      "  warnings.warn(\n"
     ]
    },
    {
     "data": {
      "image/png": "[encoded data removed]",
      "text/plain": [
       "<Figure size 1133.86x566.929 with 2 Axes>"
      ]
     },
     "metadata": {},
     "output_type": "display_data"
    }
   ],
   "source": [
    "DATASET = {'DATASET': BEST_REP,\n",
    "           'NUMBER OF REPETITIONS': 30,\n",
    "           'DATA TYPE': 'OF'}\n",
    "\n",
    "PLOT_SETUP = {'NAME': 'WANDER',\n",
    "              'WIDTH': 0.40, \n",
    "              'HEIGHT': 0.20, \n",
    "              'X AXIS LABEL': 'OF',\n",
    "              'X AXIS SIZE': 20,\n",
    "              'Y AXIS SIZE': 20,\n",
    "              'AXISES COLOR': '#000000',\n",
    "              'LABELS SIZE': 16,\n",
    "              'LABELS COLOR': '#000000',  \n",
    "              'CHART COLOR': '#FEB625',\n",
    "              'KDE': False,\n",
    "              'BINS': 20,\n",
    "              'DPI': 600, \n",
    "              'EXTENSION': '.svg'}\n",
    "\n",
    "META_PLOT_004(DATASET, PLOT_SETUP)"
   ]
  },
  {
   "cell_type": "code",
   "execution_count": 11,
   "metadata": {},
   "outputs": [
    {
     "data": {
      "image/png": "[encoded data removed]",
      "text/plain": [
       "<Figure size 1133.86x566.929 with 2 Axes>"
      ]
     },
     "metadata": {},
     "output_type": "display_data"
    }
   ],
   "source": [
    "BEST = BEST_REP[MELHOR]\n",
    "PLOT_SETUP = {'NAME': 'WANDER-OF',\n",
    "              'WIDTH': 0.40, \n",
    "              'HEIGHT': 0.20,\n",
    "              'DPI': 600, \n",
    "              'EXTENSION': '.svg',\n",
    "              'COLOR OF': '#000000',\n",
    "              'MARKER OF': 's',\n",
    "              'COLOR FIT': '#000000',\n",
    "              'MARKER FIT': 's',\n",
    "              'MARKER SIZE': 4,\n",
    "              'LINE WIDTH': 2,\n",
    "              'LINE STYLE': '--',\n",
    "              'OF AXIS LABEL': '$W (kN) $',\n",
    "              'X AXIS LABEL': 'Iteration',\n",
    "              'LABELS SIZE': 12,\n",
    "              'LABELS COLOR': '#000000',\n",
    "              'X AXIS SIZE': 12,\n",
    "              'Y AXIS SIZE': 12,\n",
    "              'AXISES COLOR': '#000000',\n",
    "              'ON GRID?': True}\n",
    "DATASET = {'X': BEST['NEOF'], 'OF': BEST['OF'], 'FIT': BEST['FIT']}\n",
    "META_PLOT_001(DATASET, PLOT_SETUP)"
   ]
  },
  {
   "cell_type": "code",
   "execution_count": 12,
   "metadata": {},
   "outputs": [
    {
     "name": "stdout",
     "output_type": "stream",
     "text": [
      "[0.65       0.05       0.05997601 0.22198389]\n",
      "[-0.6256073147452761, -0.8970431414313769, -0.8136464404550112, -0.7090040157216416, 0.3293345994745267, -0.6735621644291029] 0.09298560578593523 0.0003303292229959903\n"
     ]
    }
   ],
   "source": [
    "X = BEST_REP[0]['X_POSITION'][100,:]\n",
    "print(X)\n",
    "VIGA = {'H_W': X[0],\n",
    "        'B_W': X[1],\n",
    "        'B_FS': 0.30,\n",
    "        'B_FI': 0.30,\n",
    "        'H_FS': X[2],\n",
    "        'H_FI': X[2],\n",
    "        'H_SI': 0.07,\n",
    "        'H_II': 0.07,\n",
    "        'COB': 0.035,\n",
    "        'PHI_L': 12.5 / 1E3,\n",
    "        'PHI_E': 10.0 / 1E3,\n",
    "        'L': 20,\n",
    "        'L_PISTA': 150,\n",
    "        'FATOR_SEC': 'I',\n",
    "        'DELTA_ANC': 6 / 1E3,\n",
    "        'TEMPO_CONC': [2.00, 3.00, 28.0, 35.0, 45, 50 * 365],\n",
    "        'TEMPO_ACO': [3.00, 4.00, 29.0, 36.0, 46, 51 * 365],\n",
    "        'TEMP': 30,\n",
    "        'U': 40,\n",
    "        'PERDA_INICIAL': 8.00,\n",
    "        'PERDA_TEMPO': 17.00,\n",
    "        'E_SCP': 200E6,\n",
    "        'PHO_S': 78,\n",
    "        'F_PK': 1864210.526,\n",
    "        'F_YK': 1676573.427,\n",
    "        'LAMBA_SIG': 1,\n",
    "        'TIPO_FIO_CORD_BAR': 'COR',\n",
    "        'TIPO_PROT': 'PRE',\n",
    "        'TIPO_ACO': 'RB',\n",
    "        'PHO_C': 25,\n",
    "        'F_CK': 50 * 1E3,\n",
    "        'CIMENTO': 'CP5',\n",
    "        'AGREGADO': 'GRA',\n",
    "        'ABAT': 0.09,\n",
    "        'G_2K': 1.55 + 0.70,\n",
    "        'Q_1K': 1.5,\n",
    "        'PSI_1': 0.40,\n",
    "        'PSI_2': 0.30,\n",
    "        'GAMMA_F1': 1.30,\n",
    "        'GAMMA_F2': 1.40,\n",
    "        'GAMMA_S':1.15,\n",
    "        'ETA_1':1.2,\n",
    "        'ETA_2':1.0,\n",
    "        'E_PPROPORCAO': X[3]}\n",
    "G, A_C, A_SCP = VIGA_VER.VERIFICACAO_VIGA(VIGA)\n",
    "print(G, A_C, A_SCP)"
   ]
  },
  {
   "cell_type": "code",
   "execution_count": null,
   "metadata": {},
   "outputs": [],
   "source": []
  }
 ],
 "metadata": {
  "kernelspec": {
   "display_name": "Python 3",
   "language": "python",
   "name": "python3"
  },
  "language_info": {
   "codemirror_mode": {
    "name": "ipython",
    "version": 3
   },
   "file_extension": ".py",
   "mimetype": "text/x-python",
   "name": "python",
   "nbconvert_exporter": "python",
   "pygments_lexer": "ipython3",
   "version": "3.8.3"
  }
 },
 "nbformat": 4,
 "nbformat_minor": 4
}
